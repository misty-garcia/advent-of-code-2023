{
 "cells": [
  {
   "cell_type": "markdown",
   "id": "614da3ff",
   "metadata": {},
   "source": [
    "## --- Day 2: Cube Conundrum ---\n",
    "\n",
    "You're launched high into the atmosphere! The apex of your trajectory just barely reaches the surface of a large island floating in the sky. You gently land in a fluffy pile of leaves. It's quite cold, but you don't see much snow. An Elf runs over to greet you.\n",
    "\n",
    "The Elf explains that you've arrived at Snow Island and apologizes for the lack of snow. He'll be happy to explain the situation, but it's a bit of a walk, so you have some time. They don't get many visitors up here; would you like to play a game in the meantime?\n",
    "\n",
    "As you walk, the Elf shows you a small bag and some cubes which are either red, green, or blue. Each time you play this game, he will hide a secret number of cubes of each color in the bag, and your goal is to figure out information about the number of cubes.\n",
    "\n",
    "To get information, once a bag has been loaded with cubes, the Elf will reach into the bag, grab a handful of random cubes, show them to you, and then put them back in the bag. He'll do this a few times per game.\n",
    "\n",
    "You play several games and record the information from each game (your puzzle input). Each game is listed with its ID number (like the 11 in Game 11: ...) followed by a semicolon-separated list of subsets of cubes that were revealed from the bag (like 3 red, 5 green, 4 blue).\n",
    "\n",
    "For example, the record of a few games might look like this:\n",
    "\n",
    "    Game 1: 3 blue, 4 red; 1 red, 2 green, 6 blue; 2 green\n",
    "    Game 2: 1 blue, 2 green; 3 green, 4 blue, 1 red; 1 green, 1 blue\n",
    "    Game 3: 8 green, 6 blue, 20 red; 5 blue, 4 red, 13 green; 5 green, 1 red\n",
    "    Game 4: 1 green, 3 red, 6 blue; 3 green, 6 red; 3 green, 15 blue, 14 red\n",
    "    Game 5: 6 red, 1 blue, 3 green; 2 blue, 1 red, 2 green\n",
    "In game 1, three sets of cubes are revealed from the bag (and then put back again). The first set is 3 blue cubes and 4 red cubes; the second set is 1 red cube, 2 green cubes, and 6 blue cubes; the third set is only 2 green cubes.\n",
    "\n",
    "The Elf would first like to know which games would have been possible if the bag contained only 12 red cubes, 13 green cubes, and 14 blue cubes?\n",
    "\n",
    "In the example above, games 1, 2, and 5 would have been possible if the bag had been loaded with that configuration. However, game 3 would have been impossible because at one point the Elf showed you 20 red cubes at once; similarly, game 4 would also have been impossible because the Elf showed you 15 blue cubes at once. If you add up the IDs of the games that would have been possible, you get 8.\n",
    "\n",
    "Determine which games would have been possible if the bag had been loaded with only 12 red cubes, 13 green cubes, and 14 blue cubes. What is the sum of the IDs of those games?"
   ]
  },
  {
   "cell_type": "code",
   "execution_count": 1,
   "id": "931b2da1",
   "metadata": {},
   "outputs": [],
   "source": [
    "import pandas as pd\n",
    "import re"
   ]
  },
  {
   "cell_type": "code",
   "execution_count": 2,
   "id": "3eed01b5",
   "metadata": {},
   "outputs": [
    {
     "data": {
      "text/plain": [
       "['Game 1: 1 green, 2 blue; 15 blue, 12 red, 2 green; 4 red, 6 blue; 10 blue, 8 red; 3 red, 12 blue; 1 green, 12 red, 8 blue',\n",
       " 'Game 2: 5 green, 2 red, 18 blue; 18 blue, 6 red, 9 green; 6 blue, 3 green; 6 green, 1 red, 9 blue; 19 blue, 2 green, 6 red',\n",
       " 'Game 3: 16 red, 10 green; 12 red, 6 blue, 9 green; 10 green, 5 blue; 10 green, 16 red; 5 red, 8 green, 8 blue',\n",
       " 'Game 4: 9 blue, 20 green; 1 red, 3 blue, 10 green; 7 blue, 18 green; 4 blue, 20 green; 8 blue, 1 green, 1 red; 1 green',\n",
       " 'Game 5: 3 green, 8 red; 1 blue, 10 red; 6 red, 4 green; 8 red, 1 blue, 3 green; 1 blue, 4 green, 3 red; 1 green, 1 blue, 4 red']"
      ]
     },
     "execution_count": 2,
     "metadata": {},
     "output_type": "execute_result"
    }
   ],
   "source": [
    "with open('day_02_input.txt') as f:\n",
    "    data = f.readlines()\n",
    "\n",
    "data = [dat.strip() for dat in data]\n",
    "data[:5]"
   ]
  },
  {
   "cell_type": "code",
   "execution_count": 3,
   "id": "62c1105d",
   "metadata": {},
   "outputs": [],
   "source": [
    "#init blank list for all games\n",
    "games_list = []\n",
    "\n",
    "#iterate through one game at a time\n",
    "for one_game in data:\n",
    "    \n",
    "    #init dictionary for single game\n",
    "    one_game_dict = {}\n",
    "    \n",
    "    #split to separate data\n",
    "    game_data = one_game.split(':')\n",
    "    \n",
    "    #save game number\n",
    "    one_game_dict['game_num'] = int(re.findall(r'\\d+', game_data[0])[0])\n",
    "    \n",
    "    #save all the cube sets\n",
    "    cube_sets = game_data[1].split(';')\n",
    "\n",
    "    #list for each set of cubes\n",
    "    one_game_dict['sets'] = []\n",
    "    \n",
    "    #iterate through each cube set\n",
    "    for cube_set in cube_sets:\n",
    "\n",
    "        #split up by colors\n",
    "        cube_colors = cube_set.split(',')\n",
    "        colors_dict = {}\n",
    "\n",
    "        #check each color\n",
    "        for col in cube_colors:\n",
    "\n",
    "            #find blues\n",
    "            cube_numb = re.findall('(\\d+) blue',col)\n",
    "            if len(cube_numb) != 0:\n",
    "                cube_numb = int(cube_numb[0])\n",
    "                colors_dict['blue'] = cube_numb\n",
    "\n",
    "            #find reds\n",
    "            cube_numb = re.findall('(\\d+) red',col)\n",
    "            if len(cube_numb) != 0:\n",
    "                cube_numb = int(cube_numb[0])\n",
    "                colors_dict['red'] = cube_numb\n",
    "\n",
    "            #find greens\n",
    "            cube_numb = re.findall('(\\d+) green',col)\n",
    "            if len(cube_numb) != 0:\n",
    "                cube_numb = int(cube_numb[0])\n",
    "                colors_dict['green'] = cube_numb\n",
    "        \n",
    "        #after checking all colors, add 0s for colors not there\n",
    "        if 'blue' not in colors_dict.keys():\n",
    "            colors_dict['blue'] = 0\n",
    "        if 'red' not in colors_dict.keys():\n",
    "            colors_dict['red'] = 0\n",
    "        if 'green' not in colors_dict.keys():\n",
    "            colors_dict['green'] = 0\n",
    "                \n",
    "        #add each dictionary of color sets to game dictionary\n",
    "        one_game_dict['sets'].append(colors_dict)\n",
    "    \n",
    "    #append to comprehensive game list\n",
    "    games_list.append(one_game_dict) "
   ]
  },
  {
   "cell_type": "code",
   "execution_count": 4,
   "id": "6d9367ec",
   "metadata": {},
   "outputs": [],
   "source": [
    "good_games = []\n",
    "\n",
    "for game in games_list:\n",
    "    \n",
    "    reds = [] \n",
    "    greens = [] \n",
    "    blues = []  \n",
    "    \n",
    "    for one_set in game['sets']:\n",
    "        reds.append(one_set['red'])\n",
    "        greens.append(one_set['green'])\n",
    "        blues.append(one_set['blue'])\n",
    "\n",
    "    if max(reds) <= 12:\n",
    "        if max(greens) <= 13:\n",
    "            if max(blues) <= 14:\n",
    "                good_games.append(game['game_num'])"
   ]
  },
  {
   "cell_type": "code",
   "execution_count": 5,
   "id": "b54523ed",
   "metadata": {},
   "outputs": [
    {
     "data": {
      "text/plain": [
       "2913"
      ]
     },
     "execution_count": 5,
     "metadata": {},
     "output_type": "execute_result"
    }
   ],
   "source": [
    "pd.Series(good_games).sum()"
   ]
  },
  {
   "cell_type": "markdown",
   "id": "02464302",
   "metadata": {},
   "source": [
    "## --- Part Two ---\n",
    "The Elf says they've stopped producing snow because they aren't getting any water! He isn't sure why the water stopped; however, he can show you how to get to the water source to check it out for yourself. It's just up ahead!\n",
    "\n",
    "As you continue your walk, the Elf poses a second question: in each game you played, what is the fewest number of cubes of each color that could have been in the bag to make the game possible?\n",
    "\n",
    "Again consider the example games from earlier:\n",
    "\n",
    "    Game 1: 3 blue, 4 red; 1 red, 2 green, 6 blue; 2 green\n",
    "    Game 2: 1 blue, 2 green; 3 green, 4 blue, 1 red; 1 green, 1 blue\n",
    "    Game 3: 8 green, 6 blue, 20 red; 5 blue, 4 red, 13 green; 5 green, 1 red\n",
    "    Game 4: 1 green, 3 red, 6 blue; 3 green, 6 red; 3 green, 15 blue, 14 red\n",
    "    Game 5: 6 red, 1 blue, 3 green; 2 blue, 1 red, 2 green\n",
    "In game 1, the game could have been played with as few as 4 red, 2 green, and 6 blue cubes. If any color had even one fewer cube, the game would have been impossible.\n",
    "\n",
    "    Game 2 could have been played with a minimum of 1 red, 3 green, and 4 blue cubes.\n",
    "    Game 3 must have been played with at least 20 red, 13 green, and 6 blue cubes.\n",
    "    Game 4 required at least 14 red, 3 green, and 15 blue cubes.\n",
    "    Game 5 needed no fewer than 6 red, 3 green, and 2 blue cubes in the bag.\n",
    "The power of a set of cubes is equal to the numbers of red, green, and blue cubes multiplied together. The power of the minimum set of cubes in game 1 is 48. In games 2-5 it was 12, 1560, 630, and 36, respectively. Adding up these five powers produces the sum 2286.\n",
    "\n",
    "For each game, find the minimum set of cubes that must have been present. What is the sum of the power of these sets?"
   ]
  },
  {
   "cell_type": "code",
   "execution_count": null,
   "id": "cfa206ee",
   "metadata": {},
   "outputs": [],
   "source": []
  }
 ],
 "metadata": {
  "kernelspec": {
   "display_name": "Python 3 (ipykernel)",
   "language": "python",
   "name": "python3"
  },
  "language_info": {
   "codemirror_mode": {
    "name": "ipython",
    "version": 3
   },
   "file_extension": ".py",
   "mimetype": "text/x-python",
   "name": "python",
   "nbconvert_exporter": "python",
   "pygments_lexer": "ipython3",
   "version": "3.9.12"
  }
 },
 "nbformat": 4,
 "nbformat_minor": 5
}
