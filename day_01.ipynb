{
 "cells": [
  {
   "cell_type": "markdown",
   "id": "37d06602",
   "metadata": {},
   "source": [
    "## --- Day 1: Trebuchet?! ---"
   ]
  },
  {
   "cell_type": "markdown",
   "id": "1366f0c2",
   "metadata": {},
   "source": [
    "Something is wrong with global snow production, and you've been selected to take a look. The Elves have even given you a map; on it, they've used stars to mark the top fifty locations that are likely to be having problems.\n",
    "\n",
    "You've been doing this long enough to know that to restore snow operations, you need to check all fifty stars by December 25th.\n",
    "\n",
    "Collect stars by solving puzzles. Two puzzles will be made available on each day in the Advent calendar; the second puzzle is unlocked when you complete the first. Each puzzle grants one star. Good luck!\n",
    "\n",
    "You try to ask why they can't just use a weather machine (\"not powerful enough\") and where they're even sending you (\"the sky\") and why your map looks mostly blank (\"you sure ask a lot of questions\") and hang on did you just say the sky (\"of course, where do you think snow comes from\") when you realize that the Elves are already loading you into a trebuchet (\"please hold still, we need to strap you in\").\n",
    "\n",
    "As they're making the final adjustments, they discover that their calibration document (your puzzle input) has been amended by a very young Elf who was apparently just excited to show off her art skills. Consequently, the Elves are having trouble reading the values on the document.\n",
    "\n",
    "The newly-improved calibration document consists of lines of text; each line originally contained a specific calibration value that the Elves now need to recover. On each line, the calibration value can be found by combining the first digit and the last digit (in that order) to form a single two-digit number.\n",
    "\n",
    "For example:\n",
    "\n",
    "    1abc2\n",
    "    pqr3stu8vwx\n",
    "    a1b2c3d4e5f\n",
    "    treb7uchet\n",
    "\n",
    "In this example, the calibration values of these four lines are 12, 38, 15, and 77. Adding these together produces 142.\n",
    "\n",
    "Consider your entire calibration document. What is the sum of all of the calibration values?"
   ]
  },
  {
   "cell_type": "code",
   "execution_count": 36,
   "id": "c6b3b173",
   "metadata": {},
   "outputs": [],
   "source": [
    "import pandas as pd"
   ]
  },
  {
   "cell_type": "code",
   "execution_count": 37,
   "id": "7d1bf0d3",
   "metadata": {},
   "outputs": [
    {
     "data": {
      "text/plain": [
       "['fivepqxlpninevh2xxsnsgg63pbvdnqptmg\\n',\n",
       " 'eight8zlctbmsixhrvbpjb84nnmlcqkzrsix\\n',\n",
       " 'hkxqfrqmsixfplbkpkdfzzszjxmdjtdkjlprrvr3gghlrqckqtbng\\n',\n",
       " 'zkjkctxvssix1dqb22five\\n',\n",
       " '4dtlmkfnm\\n',\n",
       " 'four539tkqrc\\n',\n",
       " 'blxqb7onetvmfjlvglrnbtdonegfourfour\\n',\n",
       " 'lqzrclnlzrvdstgtoneseven1xrvdchn29\\n',\n",
       " 'tczmtfkqhthreetwo7five\\n',\n",
       " 'kncvqpzdtfs7\\n']"
      ]
     },
     "execution_count": 37,
     "metadata": {},
     "output_type": "execute_result"
    }
   ],
   "source": [
    "with open('day_01_input.txt') as f:\n",
    "    data = f.readlines()\n",
    "    \n",
    "data[:10]"
   ]
  },
  {
   "cell_type": "code",
   "execution_count": 38,
   "id": "8e55ed72",
   "metadata": {},
   "outputs": [
    {
     "data": {
      "text/plain": [
       "0                fivepqxlpninevh2xxsnsgg63pbvdnqptmg\\n\n",
       "1               eight8zlctbmsixhrvbpjb84nnmlcqkzrsix\\n\n",
       "2    hkxqfrqmsixfplbkpkdfzzszjxmdjtdkjlprrvr3gghlrq...\n",
       "3                             zkjkctxvssix1dqb22five\\n\n",
       "4                                          4dtlmkfnm\\n\n",
       "dtype: object"
      ]
     },
     "execution_count": 38,
     "metadata": {},
     "output_type": "execute_result"
    }
   ],
   "source": [
    "data = pd.Series(data)\n",
    "data.head()"
   ]
  },
  {
   "cell_type": "code",
   "execution_count": 39,
   "id": "da8f5137",
   "metadata": {},
   "outputs": [
    {
     "data": {
      "text/plain": [
       "0                  fivepqxlpninevh2xxsnsgg63pbvdnqptmg\n",
       "1                 eight8zlctbmsixhrvbpjb84nnmlcqkzrsix\n",
       "2    hkxqfrqmsixfplbkpkdfzzszjxmdjtdkjlprrvr3gghlrq...\n",
       "3                               zkjkctxvssix1dqb22five\n",
       "4                                            4dtlmkfnm\n",
       "dtype: object"
      ]
     },
     "execution_count": 39,
     "metadata": {},
     "output_type": "execute_result"
    }
   ],
   "source": [
    "data = data.str.strip()\n",
    "data.head()"
   ]
  },
  {
   "cell_type": "code",
   "execution_count": 40,
   "id": "9ac29476",
   "metadata": {},
   "outputs": [
    {
     "data": {
      "text/plain": [
       "['2', '6', '3']"
      ]
     },
     "execution_count": 40,
     "metadata": {},
     "output_type": "execute_result"
    }
   ],
   "source": [
    "numbers = [char for char in data[0] if char.isdigit()]\n",
    "numbers"
   ]
  },
  {
   "cell_type": "code",
   "execution_count": 41,
   "id": "c9410e7a",
   "metadata": {},
   "outputs": [
    {
     "data": {
      "text/plain": [
       "'23'"
      ]
     },
     "execution_count": 41,
     "metadata": {},
     "output_type": "execute_result"
    }
   ],
   "source": [
    "new_number = numbers[0] + numbers[-1]\n",
    "new_number"
   ]
  },
  {
   "cell_type": "code",
   "execution_count": 42,
   "id": "b695c26a",
   "metadata": {},
   "outputs": [],
   "source": [
    "def find_first_last_numb(string):\n",
    "    numbers = [char for char in string if char.isdigit()]\n",
    "    new_number = numbers[0] + numbers[-1]\n",
    "    new_number = int(new_number)\n",
    "    return new_number"
   ]
  },
  {
   "cell_type": "code",
   "execution_count": 43,
   "id": "3b290a26",
   "metadata": {},
   "outputs": [
    {
     "data": {
      "text/plain": [
       "53651"
      ]
     },
     "execution_count": 43,
     "metadata": {},
     "output_type": "execute_result"
    }
   ],
   "source": [
    "data.apply(find_first_last_numb).sum()"
   ]
  },
  {
   "cell_type": "markdown",
   "id": "dfd5c89a",
   "metadata": {},
   "source": [
    "## --- Part Two ---"
   ]
  },
  {
   "cell_type": "markdown",
   "id": "23937258",
   "metadata": {},
   "source": [
    "Your calculation isn't quite right. It looks like some of the digits are actually spelled out with letters: one, two, three, four, five, six, seven, eight, and nine also count as valid \"digits\".\n",
    "\n",
    "Equipped with this new information, you now need to find the real first and last digit on each line. For example:\n",
    "\n",
    "    two1nine\n",
    "    eightwothree\n",
    "    abcone2threexyz\n",
    "    xtwone3four\n",
    "    4nineeightseven2\n",
    "    zoneight234\n",
    "    7pqrstsixteen\n",
    "In this example, the calibration values are 29, 83, 13, 24, 42, 14, and 76. Adding these together produces 281.\n",
    "\n",
    "What is the sum of all of the calibration values?"
   ]
  },
  {
   "cell_type": "code",
   "execution_count": 129,
   "id": "8e7e142f",
   "metadata": {},
   "outputs": [
    {
     "data": {
      "text/plain": [
       "'two1nine'"
      ]
     },
     "execution_count": 129,
     "metadata": {},
     "output_type": "execute_result"
    }
   ],
   "source": [
    "string"
   ]
  },
  {
   "cell_type": "code",
   "execution_count": 135,
   "id": "e5da999d",
   "metadata": {},
   "outputs": [
    {
     "name": "stdout",
     "output_type": "stream",
     "text": [
      "e\n",
      "n\n",
      "i\n",
      "n\n",
      "1\n",
      "o\n",
      "w\n",
      "t\n"
     ]
    }
   ],
   "source": [
    "for x in range(len(string)-1,-1,-1):\n",
    "    print(string[x])"
   ]
  },
  {
   "cell_type": "code",
   "execution_count": 197,
   "id": "d4e09097",
   "metadata": {},
   "outputs": [],
   "source": [
    "def find_first_last_numb_str(string):\n",
    "#     print(string)\n",
    "    numbers = re.findall(r'one|two|three|four|five|six|seven|eight|nine|[1-9]', string)\n",
    "    first_number = numbers[0]\n",
    "#     print(first_number)\n",
    "    \n",
    "    #reverse the number\n",
    "    string_reverse = ''.join([string[x] for x in range(len(string)-1,-1,-1)])\n",
    "    numbers_reverse = re.findall(r'eno|owt|eerht|ruof|evif|xis|neves|thgie|enin|[1-9]', string_reverse)\n",
    "    last_number = numbers_reverse[0]\n",
    "    last_number = ''.join([last_number[char] for char in range(len(last_number)-1,-1,-1)])\n",
    "#     print(last_number)\n",
    "    \n",
    "    new_number = first_number + last_number   \n",
    "    new_number = new_number.replace('one','1').replace('two','2')\\\n",
    "    .replace('three','3').replace('four','4').replace('five','5')\\\n",
    "    .replace('six','6').replace('seven','7').replace('eight','8').replace('nine','9')\n",
    "    new_number = int(new_number)\n",
    "#     print(new_number)\n",
    "#     print()\n",
    "#     print(new_number, string)\n",
    "    return new_number"
   ]
  },
  {
   "cell_type": "code",
   "execution_count": 199,
   "id": "e5ace9e4",
   "metadata": {},
   "outputs": [
    {
     "data": {
      "text/plain": [
       "53894"
      ]
     },
     "execution_count": 199,
     "metadata": {},
     "output_type": "execute_result"
    }
   ],
   "source": [
    "data.apply(find_first_last_numb_str).sum()"
   ]
  },
  {
   "cell_type": "code",
   "execution_count": 200,
   "id": "c243eda3",
   "metadata": {},
   "outputs": [
    {
     "data": {
      "text/plain": [
       "76"
      ]
     },
     "execution_count": 200,
     "metadata": {},
     "output_type": "execute_result"
    }
   ],
   "source": [
    "find_first_last_numb_str('7pqrstsixteen')"
   ]
  },
  {
   "cell_type": "code",
   "execution_count": null,
   "id": "5d645bb4",
   "metadata": {},
   "outputs": [],
   "source": []
  }
 ],
 "metadata": {
  "kernelspec": {
   "display_name": "Python 3 (ipykernel)",
   "language": "python",
   "name": "python3"
  },
  "language_info": {
   "codemirror_mode": {
    "name": "ipython",
    "version": 3
   },
   "file_extension": ".py",
   "mimetype": "text/x-python",
   "name": "python",
   "nbconvert_exporter": "python",
   "pygments_lexer": "ipython3",
   "version": "3.9.12"
  }
 },
 "nbformat": 4,
 "nbformat_minor": 5
}
