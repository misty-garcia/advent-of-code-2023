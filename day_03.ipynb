{
 "cells": [
  {
   "cell_type": "markdown",
   "metadata": {},
   "source": [
    "## --- Day 3: Gear Ratios ---\n",
    "You and the Elf eventually reach a gondola lift station; he says the gondola lift will take you up to the water source, but this is as far as he can bring you. You go inside.\n",
    "\n",
    "It doesn't take long to find the gondolas, but there seems to be a problem: they're not moving.\n",
    "\n",
    "\"Aaah!\"\n",
    "\n",
    "You turn around to see a slightly-greasy Elf with a wrench and a look of surprise. \"Sorry, I wasn't expecting anyone! The gondola lift isn't working right now; it'll still be a while before I can fix it.\" You offer to help.\n",
    "\n",
    "The engineer explains that an engine part seems to be missing from the engine, but nobody can figure out which one. If you can add up all the part numbers in the engine schematic, it should be easy to work out which part is missing.\n",
    "\n",
    "The engine schematic (your puzzle input) consists of a visual representation of the engine. There are lots of numbers and symbols you don't really understand, but apparently any number adjacent to a symbol, even diagonally, is a \"part number\" and should be included in your sum. (Periods (.) do not count as a symbol.)\n",
    "\n",
    "Here is an example engine schematic:\n",
    "\n",
    "    467..114..\n",
    "    ...*......\n",
    "    ..35..633.\n",
    "    ......#...\n",
    "    617*......\n",
    "    .....+.58.\n",
    "    ..592.....\n",
    "    ......755.\n",
    "    ...$.*....\n",
    "    .664.598..\n",
    "In this schematic, two numbers are not part numbers because they are not adjacent to a symbol: 114 (top right) and 58 (middle right). Every other number is adjacent to a symbol and so is a part number; their sum is 4361.\n",
    "\n",
    "Of course, the actual engine schematic is much larger. What is the sum of all of the part numbers in the engine schematic?"
   ]
  },
  {
   "cell_type": "code",
   "execution_count": 1,
   "metadata": {},
   "outputs": [],
   "source": [
    "import numpy as np\n",
    "import re"
   ]
  },
  {
   "cell_type": "code",
   "execution_count": 2,
   "metadata": {},
   "outputs": [
    {
     "data": {
      "text/plain": [
       "array(['.479........155..............944.....622..............31.........264.......................532..........................254.........528.....',\n",
       "       '..............-...............%.....+...................=....111*.................495.......+.......558..................../..........*.....',\n",
       "       '....................791*..62.....$.............847........&........-..........618.*...........818....&..642.........................789.....',\n",
       "       '....520.58......405......#....542.../587.............*....198.......846.........*..............*.......*....................647.............',\n",
       "       '.........*........./.964..........................474.302.....................786...43..............505..436...................*.....#51....'],\n",
       "      dtype='<U140')"
      ]
     },
     "execution_count": 2,
     "metadata": {},
     "output_type": "execute_result"
    }
   ],
   "source": [
    "#get data\n",
    "with open('day_03_input.txt') as f:\n",
    "    data = f.read()\n",
    "    \n",
    "data = np.array(data.split('\\n'))\n",
    "data[:5]"
   ]
  },
  {
   "cell_type": "code",
   "execution_count": 3,
   "metadata": {},
   "outputs": [
    {
     "data": {
      "text/plain": [
       "array([['.', '.', '.', ..., '.', '.', '.'],\n",
       "       ['.', '.', '4', ..., '.', '.', '.'],\n",
       "       ['.', '.', '.', ..., '.', '.', '.'],\n",
       "       ...,\n",
       "       ['.', '.', '.', ..., '.', '.', '.'],\n",
       "       ['.', '.', '.', ..., '.', '.', '.'],\n",
       "       ['.', '.', '.', ..., '.', '.', '.']], dtype='<U1')"
      ]
     },
     "execution_count": 3,
     "metadata": {},
     "output_type": "execute_result"
    }
   ],
   "source": [
    "data_list = []\n",
    "\n",
    "for string in data:\n",
    "    #split each char into a list\n",
    "    string_spread = [char for char in string]\n",
    "    data_list.append(string_spread)\n",
    "\n",
    "#make array of all split chars\n",
    "data_array = np.array(data_list)\n",
    "\n",
    "#pad with . to check surroundings\n",
    "data_array = np.pad(data_array, pad_width=1, constant_values='.')\n",
    "data_array"
   ]
  },
  {
   "cell_type": "code",
   "execution_count": 4,
   "metadata": {},
   "outputs": [
    {
     "data": {
      "text/plain": [
       "(142, 142)"
      ]
     },
     "execution_count": 4,
     "metadata": {},
     "output_type": "execute_result"
    }
   ],
   "source": [
    "data_array.shape"
   ]
  },
  {
   "cell_type": "code",
   "execution_count": 5,
   "metadata": {},
   "outputs": [
    {
     "data": {
      "text/plain": [
       "['..............................................................................................................................................',\n",
       " '..479........155..............944.....622..............31.........264.......................532..........................254.........528......',\n",
       " '...............-...............%.....+...................=....111*.................495.......+.......558..................../..........*......',\n",
       " '.....................791*..62.....$.............847........&........-..........618.*...........818....&..642.........................789......',\n",
       " '.....520.58......405......#....542.../587.............*....198.......846.........*..............*.......*....................647..............']"
      ]
     },
     "execution_count": 5,
     "metadata": {},
     "output_type": "execute_result"
    }
   ],
   "source": [
    "data = [''.join(dat) for dat in data_array]\n",
    "data[:5]"
   ]
  },
  {
   "cell_type": "code",
   "execution_count": 6,
   "metadata": {},
   "outputs": [],
   "source": [
    "#init parts list\n",
    "parts = []\n",
    "\n",
    "#iterate over every line\n",
    "for i, string in enumerate(data):\n",
    "    \n",
    "    #find all numbers\n",
    "    matches = re.finditer(r'\\d+',string)\n",
    "    \n",
    "    #iterate through each number\n",
    "    for match in matches:\n",
    "        \n",
    "        #determine the index before and after the number\n",
    "        x_first = match.span()[0] - 1\n",
    "        x_last = match.span()[1]\n",
    "        \n",
    "        #determine the index below and above the number\n",
    "        y_first = i - 1\n",
    "        y_last = i + 1\n",
    "        \n",
    "        #check for symbols adjacent to number\n",
    "        cont = True\n",
    "        for x in range(x_first,x_last+1):\n",
    "            if cont == False:\n",
    "                break\n",
    "            for y in range(y_first,y_last+1):\n",
    "                if cont == False:\n",
    "                    break                \n",
    "\n",
    "                #save symbol\n",
    "                symbol = data_array[y][x]\n",
    "\n",
    "                #if the char is a special symbol, its a part\n",
    "                if re.match(r'[^\\d|\\.]',symbol):\n",
    "                    parts.append(match.group())\n",
    "\n",
    "                    #no need to continue checking this number\n",
    "                    cont = False"
   ]
  },
  {
   "cell_type": "code",
   "execution_count": 9,
   "metadata": {},
   "outputs": [
    {
     "data": {
      "text/plain": [
       "528819"
      ]
     },
     "execution_count": 9,
     "metadata": {},
     "output_type": "execute_result"
    }
   ],
   "source": [
    "np.array(parts).astype(int).sum()"
   ]
  },
  {
   "cell_type": "markdown",
   "metadata": {},
   "source": [
    "## --- Part Two ---\n",
    "The engineer finds the missing part and installs it in the engine! As the engine springs to life, you jump in the closest gondola, finally ready to ascend to the water source.\n",
    "\n",
    "You don't seem to be going very fast, though. Maybe something is still wrong? Fortunately, the gondola has a phone labeled \"help\", so you pick it up and the engineer answers.\n",
    "\n",
    "Before you can explain the situation, she suggests that you look out the window. There stands the engineer, holding a phone in one hand and waving with the other. You're going so slowly that you haven't even left the station. You exit the gondola.\n",
    "\n",
    "The missing part wasn't the only issue - one of the gears in the engine is wrong. A gear is any * symbol that is adjacent to exactly two part numbers. Its gear ratio is the result of multiplying those two numbers together.\n",
    "\n",
    "This time, you need to find the gear ratio of every gear and add them all up so that the engineer can figure out which gear needs to be replaced.\n",
    "\n",
    "Consider the same engine schematic again:\n",
    "\n",
    "    467..114..\n",
    "    ...*......\n",
    "    ..35..633.\n",
    "    ......#...\n",
    "    617*......\n",
    "    .....+.58.\n",
    "    ..592.....\n",
    "    ......755.\n",
    "    ...$.*....\n",
    "    .664.598..\n",
    "In this schematic, there are two gears. The first is in the top left; it has part numbers 467 and 35, so its gear ratio is 16345. The second gear is in the lower right; its gear ratio is 451490. (The * adjacent to 617 is not a gear because it is only adjacent to one part number.) Adding up all of the gear ratios produces 467835.\n",
    "\n",
    "What is the sum of all of the gear ratios in your engine schematic?"
   ]
  },
  {
   "cell_type": "code",
   "execution_count": 10,
   "metadata": {},
   "outputs": [
    {
     "data": {
      "text/plain": [
       "array([['.', '.', '.', ..., '.', '.', '.'],\n",
       "       ['.', '.', '4', ..., '.', '.', '.'],\n",
       "       ['.', '.', '.', ..., '.', '.', '.'],\n",
       "       ...,\n",
       "       ['.', '.', '.', ..., '.', '.', '.'],\n",
       "       ['.', '.', '.', ..., '.', '.', '.'],\n",
       "       ['.', '.', '.', ..., '.', '.', '.']], dtype='<U1')"
      ]
     },
     "execution_count": 10,
     "metadata": {},
     "output_type": "execute_result"
    }
   ],
   "source": [
    "data_array"
   ]
  },
  {
   "cell_type": "code",
   "execution_count": 11,
   "metadata": {},
   "outputs": [
    {
     "data": {
      "text/plain": [
       "['..............................................................................................................................................',\n",
       " '..479........155..............944.....622..............31.........264.......................532..........................254.........528......',\n",
       " '...............-...............%.....+...................=....111*.................495.......+.......558..................../..........*......',\n",
       " '.....................791*..62.....$.............847........&........-..........618.*...........818....&..642.........................789......',\n",
       " '.....520.58......405......#....542.../587.............*....198.......846.........*..............*.......*....................647..............']"
      ]
     },
     "execution_count": 11,
     "metadata": {},
     "output_type": "execute_result"
    }
   ],
   "source": [
    "data[:5]"
   ]
  },
  {
   "cell_type": "code",
   "execution_count": 12,
   "metadata": {},
   "outputs": [],
   "source": [
    "#init parts list\n",
    "gears = []\n",
    "\n",
    "#iterate over every line\n",
    "for i, string in enumerate(data):\n",
    "    \n",
    "    #find all numbers\n",
    "    matches = re.finditer(r'\\*',string)\n",
    "    \n",
    "    #iterate through each number\n",
    "    for match in matches:\n",
    "        \n",
    "        #determine the index before and after the number\n",
    "        x_first = match.span()[0] - 1\n",
    "        x_last = match.span()[1]\n",
    "        \n",
    "        #determine the index below and above the number\n",
    "        y_first = i - 1\n",
    "        y_last = i + 1\n",
    "        \n",
    "        #find all the things touching the gear\n",
    "        touch = data_array[y_first:y_last+1, x_first:x_last+1]\n",
    "        touch = [''.join(char) for char in touch]\n",
    "\n",
    "        count=0\n",
    "        rows=[]\n",
    "        gear_parts = []\n",
    "        \n",
    "        #find out how many parts(numbers) are touching the gear\n",
    "        for j,char in enumerate(touch):\n",
    "            numb_numbs = len(re.findall(r'\\d+',char))\n",
    "            count += numb_numbs\n",
    "            #save the rows with numbers\n",
    "            if numb_numbs:\n",
    "                rows.append(j-1)\n",
    "            \n",
    "        #if there are exactly two numbers, determine what they are\n",
    "        if count == 2:\n",
    "            \n",
    "            #check each row for numbers\n",
    "            for row in rows:\n",
    "                check = data[i+row]\n",
    "                results = re.finditer(r'\\d+',check)\n",
    "                \n",
    "                #check if the number is in the index of touching the gear\n",
    "                for result in results:\n",
    "                    for x_check in range(x_first,x_last+1):\n",
    "                        if result.span()[0] <= x_check <= result.span()[1]-1:\n",
    "                            #if touching gear, save number\n",
    "                            gear_parts.append(result.group())\n",
    "                            break\n",
    "\n",
    "            #multiple the two numbers together\n",
    "            gears.append(np.array(gear_parts).astype(int).prod())"
   ]
  },
  {
   "cell_type": "code",
   "execution_count": 13,
   "metadata": {},
   "outputs": [
    {
     "data": {
      "text/plain": [
       "80403602"
      ]
     },
     "execution_count": 13,
     "metadata": {},
     "output_type": "execute_result"
    }
   ],
   "source": [
    "np.array(gears).sum()"
   ]
  },
  {
   "cell_type": "code",
   "execution_count": null,
   "metadata": {},
   "outputs": [],
   "source": []
  }
 ],
 "metadata": {
  "kernelspec": {
   "display_name": "Python 3",
   "language": "python",
   "name": "python3"
  },
  "language_info": {
   "codemirror_mode": {
    "name": "ipython",
    "version": 3
   },
   "file_extension": ".py",
   "mimetype": "text/x-python",
   "name": "python",
   "nbconvert_exporter": "python",
   "pygments_lexer": "ipython3",
   "version": "3.7.3"
  },
  "toc": {
   "base_numbering": 1,
   "nav_menu": {},
   "number_sections": false,
   "sideBar": true,
   "skip_h1_title": true,
   "title_cell": "Table of Contents",
   "title_sidebar": "Contents",
   "toc_cell": false,
   "toc_position": {},
   "toc_section_display": true,
   "toc_window_display": false
  }
 },
 "nbformat": 4,
 "nbformat_minor": 2
}
