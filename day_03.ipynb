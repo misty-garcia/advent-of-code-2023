{
 "cells": [
  {
   "cell_type": "markdown",
   "metadata": {},
   "source": [
    "## --- Day 3: Gear Ratios ---\n",
    "You and the Elf eventually reach a gondola lift station; he says the gondola lift will take you up to the water source, but this is as far as he can bring you. You go inside.\n",
    "\n",
    "It doesn't take long to find the gondolas, but there seems to be a problem: they're not moving.\n",
    "\n",
    "\"Aaah!\"\n",
    "\n",
    "You turn around to see a slightly-greasy Elf with a wrench and a look of surprise. \"Sorry, I wasn't expecting anyone! The gondola lift isn't working right now; it'll still be a while before I can fix it.\" You offer to help.\n",
    "\n",
    "The engineer explains that an engine part seems to be missing from the engine, but nobody can figure out which one. If you can add up all the part numbers in the engine schematic, it should be easy to work out which part is missing.\n",
    "\n",
    "The engine schematic (your puzzle input) consists of a visual representation of the engine. There are lots of numbers and symbols you don't really understand, but apparently any number adjacent to a symbol, even diagonally, is a \"part number\" and should be included in your sum. (Periods (.) do not count as a symbol.)\n",
    "\n",
    "Here is an example engine schematic:\n",
    "\n",
    "    467..114..\n",
    "    ...*......\n",
    "    ..35..633.\n",
    "    ......#...\n",
    "    617*......\n",
    "    .....+.58.\n",
    "    ..592.....\n",
    "    ......755.\n",
    "    ...$.*....\n",
    "    .664.598..\n",
    "In this schematic, two numbers are not part numbers because they are not adjacent to a symbol: 114 (top right) and 58 (middle right). Every other number is adjacent to a symbol and so is a part number; their sum is 4361.\n",
    "\n",
    "Of course, the actual engine schematic is much larger. What is the sum of all of the part numbers in the engine schematic?"
   ]
  },
  {
   "cell_type": "code",
   "execution_count": 1,
   "metadata": {},
   "outputs": [],
   "source": [
    "import numpy as np\n",
    "import re"
   ]
  },
  {
   "cell_type": "code",
   "execution_count": 2,
   "metadata": {},
   "outputs": [
    {
     "data": {
      "text/plain": [
       "array(['.479........155..............944.....622..............31.........264.......................532..........................254.........528.....',\n",
       "       '..............-...............%.....+...................=....111*.................495.......+.......558..................../..........*.....',\n",
       "       '....................791*..62.....$.............847........&........-..........618.*...........818....&..642.........................789.....',\n",
       "       '....520.58......405......#....542.../587.............*....198.......846.........*..............*.......*....................647.............',\n",
       "       '.........*........./.964..........................474.302.....................786...43..............505..436...................*.....#51....'],\n",
       "      dtype='<U140')"
      ]
     },
     "execution_count": 2,
     "metadata": {},
     "output_type": "execute_result"
    }
   ],
   "source": [
    "#get data\n",
    "with open('day_03_input.txt') as f:\n",
    "    data = f.read()\n",
    "    \n",
    "data = np.array(data.split('\\n'))\n",
    "data[:5]"
   ]
  },
  {
   "cell_type": "code",
   "execution_count": 3,
   "metadata": {},
   "outputs": [
    {
     "data": {
      "text/plain": [
       "array([['.', '.', '.', ..., '.', '.', '.'],\n",
       "       ['.', '.', '4', ..., '.', '.', '.'],\n",
       "       ['.', '.', '.', ..., '.', '.', '.'],\n",
       "       ...,\n",
       "       ['.', '.', '.', ..., '.', '.', '.'],\n",
       "       ['.', '.', '.', ..., '.', '.', '.'],\n",
       "       ['.', '.', '.', ..., '.', '.', '.']], dtype='<U1')"
      ]
     },
     "execution_count": 3,
     "metadata": {},
     "output_type": "execute_result"
    }
   ],
   "source": [
    "data_list = []\n",
    "\n",
    "for string in data:\n",
    "    #split each char into a list\n",
    "    string_spread = [char for char in string]\n",
    "    data_list.append(string_spread)\n",
    "\n",
    "#make array of all split chars\n",
    "data_array = np.array(data_list)\n",
    "\n",
    "#pad with . to check surroundings\n",
    "data_array = np.pad(data_array, pad_width=1, constant_values='.')\n",
    "data_array"
   ]
  },
  {
   "cell_type": "code",
   "execution_count": 4,
   "metadata": {},
   "outputs": [
    {
     "data": {
      "text/plain": [
       "(142, 142)"
      ]
     },
     "execution_count": 4,
     "metadata": {},
     "output_type": "execute_result"
    }
   ],
   "source": [
    "data_array.shape"
   ]
  },
  {
   "cell_type": "code",
   "execution_count": 5,
   "metadata": {},
   "outputs": [],
   "source": [
    "#init parts list\n",
    "parts = []\n",
    "\n",
    "#iterate over every line\n",
    "for i, string in enumerate(data_array):\n",
    "    string = ''.join(string)\n",
    "#     print(string)\n",
    "    \n",
    "    #find all numbers\n",
    "    matches = re.finditer(r'\\d+',string)\n",
    "    \n",
    "    #iterate through each number\n",
    "    for match in matches:\n",
    "#         print(i, match.group())\n",
    "#         print(match.span())\n",
    "        \n",
    "        #determine the index before and after the number\n",
    "        x_first = match.span()[0] - 1\n",
    "        x_last = match.span()[1]\n",
    "        \n",
    "        #determine the index below and above the number\n",
    "        y_first = i - 1\n",
    "        y_last = i + 1\n",
    "        \n",
    "        #check for symbols adjacent to number\n",
    "        cont = True\n",
    "        for x in range(x_first,x_last+1):\n",
    "            if cont == False:\n",
    "                break\n",
    "            for y in range(y_first,y_last+1):\n",
    "                if cont == False:\n",
    "                    break                \n",
    "\n",
    "                #save symbol\n",
    "                symbol = data_array[y][x]\n",
    "\n",
    "                #if the char is a special symbol, its a part\n",
    "                if re.match(r'[^\\d|\\.]',symbol):\n",
    "#                     print('symbol found', symbol)\n",
    "                    parts.append(match.group())\n",
    "\n",
    "                    #no need to continue checking this number\n",
    "                    cont = False"
   ]
  },
  {
   "cell_type": "code",
   "execution_count": 6,
   "metadata": {},
   "outputs": [],
   "source": [
    "# parts"
   ]
  },
  {
   "cell_type": "code",
   "execution_count": 7,
   "metadata": {},
   "outputs": [
    {
     "data": {
      "text/plain": [
       "528819"
      ]
     },
     "execution_count": 7,
     "metadata": {},
     "output_type": "execute_result"
    }
   ],
   "source": [
    "np.array(parts).astype(int).sum()"
   ]
  },
  {
   "cell_type": "markdown",
   "metadata": {},
   "source": [
    "528819"
   ]
  },
  {
   "cell_type": "code",
   "execution_count": null,
   "metadata": {},
   "outputs": [],
   "source": []
  }
 ],
 "metadata": {
  "kernelspec": {
   "display_name": "Python 3",
   "language": "python",
   "name": "python3"
  },
  "language_info": {
   "codemirror_mode": {
    "name": "ipython",
    "version": 3
   },
   "file_extension": ".py",
   "mimetype": "text/x-python",
   "name": "python",
   "nbconvert_exporter": "python",
   "pygments_lexer": "ipython3",
   "version": "3.7.3"
  },
  "toc": {
   "base_numbering": 1,
   "nav_menu": {},
   "number_sections": false,
   "sideBar": true,
   "skip_h1_title": true,
   "title_cell": "Table of Contents",
   "title_sidebar": "Contents",
   "toc_cell": false,
   "toc_position": {},
   "toc_section_display": true,
   "toc_window_display": false
  }
 },
 "nbformat": 4,
 "nbformat_minor": 2
}
