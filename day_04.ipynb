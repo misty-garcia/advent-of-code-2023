{
 "cells": [
  {
   "cell_type": "markdown",
   "metadata": {},
   "source": [
    "## --- Day 4: Scratchcards ---\n",
    "The gondola takes you up. Strangely, though, the ground doesn't seem to be coming with you; you're not climbing a mountain. As the circle of Snow Island recedes below you, an entire new landmass suddenly appears above you! The gondola carries you to the surface of the new island and lurches into the station.\n",
    "\n",
    "As you exit the gondola, the first thing you notice is that the air here is much warmer than it was on Snow Island. It's also quite humid. Is this where the water source is?\n",
    "\n",
    "The next thing you notice is an Elf sitting on the floor across the station in what seems to be a pile of colorful square cards.\n",
    "\n",
    "\"Oh! Hello!\" The Elf excitedly runs over to you. \"How may I be of service?\" You ask about water sources.\n",
    "\n",
    "\"I'm not sure; I just operate the gondola lift. That does sound like something we'd have, though - this is Island Island, after all! I bet the gardener would know. He's on a different island, though - er, the small kind surrounded by water, not the floating kind. We really need to come up with a better naming scheme. Tell you what: if you can help me with something quick, I'll let you borrow my boat and you can go visit the gardener. I got all these scratchcards as a gift, but I can't figure out what I've won.\"\n",
    "\n",
    "The Elf leads you over to the pile of colorful cards. There, you discover dozens of scratchcards, all with their opaque covering already scratched off. Picking one up, it looks like each card has two lists of numbers separated by a vertical bar (|): a list of winning numbers and then a list of numbers you have. You organize the information into a table (your puzzle input).\n",
    "\n",
    "As far as the Elf has been able to figure out, you have to figure out which of the numbers you have appear in the list of winning numbers. The first match makes the card worth one point and each match after the first doubles the point value of that card.\n",
    "\n",
    "For example:\n",
    "\n",
    "    Card 1: 41 48 83 86 17 | 83 86  6 31 17  9 48 53\n",
    "    Card 2: 13 32 20 16 61 | 61 30 68 82 17 32 24 19\n",
    "    Card 3:  1 21 53 59 44 | 69 82 63 72 16 21 14  1\n",
    "    Card 4: 41 92 73 84 69 | 59 84 76 51 58  5 54 83\n",
    "    Card 5: 87 83 26 28 32 | 88 30 70 12 93 22 82 36\n",
    "    Card 6: 31 18 13 56 72 | 74 77 10 23 35 67 36 11\n",
    "In the above example, card 1 has five winning numbers (41, 48, 83, 86, and 17) and eight numbers you have (83, 86, 6, 31, 17, 9, 48, and 53). Of the numbers you have, four of them (48, 83, 17, and 86) are winning numbers! That means card 1 is worth 8 points (1 for the first match, then doubled three times for each of the three matches after the first).\n",
    "\n",
    "    Card 2 has two winning numbers (32 and 61), so it is worth 2 points.\n",
    "    Card 3 has two winning numbers (1 and 21), so it is worth 2 points.\n",
    "    Card 4 has one winning number (84), so it is worth 1 point.\n",
    "    Card 5 has no winning numbers, so it is worth no points.\n",
    "    Card 6 has no winning numbers, so it is worth no points.\n",
    "    So, in this example, the Elf's pile of scratchcards is worth 13 points.\n",
    "\n",
    "Take a seat in the large pile of colorful cards. How many points are they worth in total?"
   ]
  },
  {
   "cell_type": "code",
   "execution_count": 179,
   "metadata": {},
   "outputs": [],
   "source": [
    "import pandas as pd\n",
    "import numpy as np\n",
    "import re"
   ]
  },
  {
   "cell_type": "code",
   "execution_count": 180,
   "metadata": {},
   "outputs": [
    {
     "data": {
      "text/plain": [
       "0    Card   1:  8 86 59 90 68 52 55 24 37 69 | 10 5...\n",
       "1    Card   2:  6 42 98  5 17 31 13 36 63 61 | 99 8...\n",
       "2    Card   3: 16 58 72 77  1 67 33 82 68  7 | 16 3...\n",
       "3    Card   4: 75 35 37  6 29 54 64 57 82  4 |  8 3...\n",
       "4    Card   5: 23 85 52 77 81 50 28 59 87 82 | 70 6...\n",
       "dtype: object"
      ]
     },
     "execution_count": 180,
     "metadata": {},
     "output_type": "execute_result"
    }
   ],
   "source": [
    "#get data\n",
    "with open('day_04_input.txt') as f:\n",
    "    data = f.read()\n",
    "\n",
    "data = pd.Series(data.split('\\n'))\n",
    "data.head()"
   ]
  },
  {
   "cell_type": "code",
   "execution_count": 181,
   "metadata": {},
   "outputs": [
    {
     "data": {
      "text/plain": [
       "25651"
      ]
     },
     "execution_count": 181,
     "metadata": {},
     "output_type": "execute_result"
    }
   ],
   "source": [
    "#initialize to count points\n",
    "total_points = 0 \n",
    "\n",
    "#iterate through each card\n",
    "for game in data:\n",
    "\n",
    "    #remove extra spaces\n",
    "    game = re.sub(r'\\s+',r' ', game)\n",
    "\n",
    "    #find all the numbers in each card\n",
    "    results = re.findall(r'(\\d+):\\s(.+)\\s\\|\\s(.+)\\s?',game)\n",
    "    \n",
    "    #isolate winners and picks\n",
    "    winners = set(results[0][1].split(' '))\n",
    "    picks = set(results[0][2].split(' '))\n",
    "    \n",
    "    #find the matching ones\n",
    "    same = winners.intersection(picks)\n",
    "\n",
    "    \n",
    "    #if there is a winner, calculate points by double each match\n",
    "    if len(same):\n",
    "        points = 2 ** (len(same) - 1)\n",
    "        total_points += points\n",
    "        \n",
    "total_points"
   ]
  },
  {
   "cell_type": "markdown",
   "metadata": {},
   "source": [
    "## --- Part Two ---\n",
    "Just as you're about to report your findings to the Elf, one of you realizes that the rules have actually been printed on the back of every card this whole time.\n",
    "\n",
    "There's no such thing as \"points\". Instead, scratchcards only cause you to win more scratchcards equal to the number of winning numbers you have.\n",
    "\n",
    "Specifically, you win copies of the scratchcards below the winning card equal to the number of matches. So, if card 10 were to have 5 matching numbers, you would win one copy each of cards 11, 12, 13, 14, and 15.\n",
    "\n",
    "Copies of scratchcards are scored like normal scratchcards and have the same card number as the card they copied. So, if you win a copy of card 10 and it has 5 matching numbers, it would then win a copy of the same cards that the original card 10 won: cards 11, 12, 13, 14, and 15. This process repeats until none of the copies cause you to win any more cards. (Cards will never make you copy a card past the end of the table.)\n",
    "\n",
    "This time, the above example goes differently:\n",
    "\n",
    "    Card 1: 41 48 83 86 17 | 83 86  6 31 17  9 48 53\n",
    "    Card 2: 13 32 20 16 61 | 61 30 68 82 17 32 24 19\n",
    "    Card 3:  1 21 53 59 44 | 69 82 63 72 16 21 14  1\n",
    "    Card 4: 41 92 73 84 69 | 59 84 76 51 58  5 54 83\n",
    "    Card 5: 87 83 26 28 32 | 88 30 70 12 93 22 82 36\n",
    "    Card 6: 31 18 13 56 72 | 74 77 10 23 35 67 36 11\n",
    "Card 1 has four matching numbers, so you win one copy each of the next four cards: cards 2, 3, 4, and 5.\n",
    "Your original card 2 has two matching numbers, so you win one copy each of cards 3 and 4.\n",
    "Your copy of card 2 also wins one copy each of cards 3 and 4.\n",
    "Your four instances of card 3 (one original and three copies) have two matching numbers, so you win four copies each of cards 4 and 5.\n",
    "Your eight instances of card 4 (one original and seven copies) have one matching number, so you win eight copies of card 5.\n",
    "Your fourteen instances of card 5 (one original and thirteen copies) have no matching numbers and win no more cards.\n",
    "Your one instance of card 6 (one original) has no matching numbers and wins no more cards.\n",
    "Once all of the originals and copies have been processed, you end up with 1 instance of card 1, 2 instances of card 2, 4 instances of card 3, 8 instances of card 4, 14 instances of card 5, and 1 instance of card 6. In total, this example pile of scratchcards causes you to ultimately have 30 scratchcards!\n",
    "\n",
    "Process all of the original and copied scratchcards until no more scratchcards are won. Including the original set of scratchcards, how many total scratchcards do you end up with?"
   ]
  },
  {
   "cell_type": "code",
   "execution_count": 299,
   "metadata": {},
   "outputs": [
    {
     "data": {
      "text/plain": [
       "0      Card   1:  8 86 59 90 68 52 55 24 37 69 | 10 5...\n",
       "1      Card   2:  6 42 98  5 17 31 13 36 63 61 | 99 8...\n",
       "2      Card   3: 16 58 72 77  1 67 33 82 68  7 | 16 3...\n",
       "3      Card   4: 75 35 37  6 29 54 64 57 82  4 |  8 3...\n",
       "4      Card   5: 23 85 52 77 81 50 28 59 87 82 | 70 6...\n",
       "                             ...                        \n",
       "198    Card 199:  7 15 47 28 44 22 74 76 40 56 | 78 2...\n",
       "199    Card 200: 85 88  3 44 54 19  9 71 29 53 | 72 4...\n",
       "200    Card 201: 10 51 69 82 56 40 94  9 90 78 | 57 9...\n",
       "201    Card 202: 44 47 79 75 24 50 86 80 62 87 | 66 9...\n",
       "202    Card 203: 59 31 79 81  4 21 24 54 48 62 | 37 9...\n",
       "Length: 203, dtype: object"
      ]
     },
     "execution_count": 299,
     "metadata": {},
     "output_type": "execute_result"
    }
   ],
   "source": [
    "#get data\n",
    "with open('day_04_input.txt') as f:\n",
    "    data = f.read()\n",
    "\n",
    "data = pd.Series(data.split('\\n'))\n",
    "data"
   ]
  },
  {
   "cell_type": "code",
   "execution_count": 300,
   "metadata": {},
   "outputs": [],
   "source": [
    "#init dictionary for counting cards\n",
    "count_cards = {}\n",
    "\n",
    "#assign each card a 1\n",
    "for i in range(len(data)):\n",
    "    count_cards['card ' + str(i+1)] = 1"
   ]
  },
  {
   "cell_type": "code",
   "execution_count": 301,
   "metadata": {},
   "outputs": [],
   "source": [
    "#iterate through each card\n",
    "for i, game in enumerate(data):\n",
    "\n",
    "    #remove extra spaces\n",
    "    game = re.sub(r'\\s+',r' ', game)\n",
    "\n",
    "    #find all the numbers in each card\n",
    "    results = re.findall(r'(\\d+):\\s(.+)\\s\\|\\s(.+)\\s?',game)\n",
    "    \n",
    "    #isolate winners and picks\n",
    "    winners = set(results[0][1].split(' '))\n",
    "    picks = set(results[0][2].split(' '))\n",
    "    \n",
    "    #find how many matching ones there are\n",
    "    same = winners.intersection(picks)\n",
    "    num_same = len(same)\n",
    "\n",
    "    #for the number of matches, add the number of copies to the following number of cards\n",
    "    for j in range(num_same):\n",
    "        card_to_copy = 'card ' + str(i+1+j+1)\n",
    "        if card_to_copy in count_cards:\n",
    "            count_cards[card_to_copy] = count_cards[card_to_copy] + (1 * count_cards['card ' + str(i+1)]) "
   ]
  },
  {
   "cell_type": "code",
   "execution_count": 302,
   "metadata": {},
   "outputs": [
    {
     "data": {
      "text/plain": [
       "19499881"
      ]
     },
     "execution_count": 302,
     "metadata": {},
     "output_type": "execute_result"
    }
   ],
   "source": [
    "np.array(list(count_cards.values())).sum()"
   ]
  },
  {
   "cell_type": "code",
   "execution_count": null,
   "metadata": {},
   "outputs": [],
   "source": []
  }
 ],
 "metadata": {
  "kernelspec": {
   "display_name": "Python 3",
   "language": "python",
   "name": "python3"
  },
  "language_info": {
   "codemirror_mode": {
    "name": "ipython",
    "version": 3
   },
   "file_extension": ".py",
   "mimetype": "text/x-python",
   "name": "python",
   "nbconvert_exporter": "python",
   "pygments_lexer": "ipython3",
   "version": "3.7.3"
  },
  "toc": {
   "base_numbering": 1,
   "nav_menu": {},
   "number_sections": false,
   "sideBar": true,
   "skip_h1_title": true,
   "title_cell": "Table of Contents",
   "title_sidebar": "Contents",
   "toc_cell": false,
   "toc_position": {},
   "toc_section_display": true,
   "toc_window_display": false
  }
 },
 "nbformat": 4,
 "nbformat_minor": 2
}
