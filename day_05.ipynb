{
 "cells": [
  {
   "cell_type": "markdown",
   "metadata": {},
   "source": [
    "## --- Day 5: If You Give A Seed A Fertilizer ---\n",
    "You take the boat and find the gardener right where you were told he would be: managing a giant \"garden\" that looks more to you like a farm.\n",
    "\n",
    "\"A water source? Island Island is the water source!\" You point out that Snow Island isn't receiving any water.\n",
    "\n",
    "\"Oh, we had to stop the water because we ran out of sand to filter it with! Can't make snow with dirty water. Don't worry, I'm sure we'll get more sand soon; we only turned off the water a few days... weeks... oh no.\" His face sinks into a look of horrified realization.\n",
    "\n",
    "\"I've been so busy making sure everyone here has food that I completely forgot to check why we stopped getting more sand! There's a ferry leaving soon that is headed over in that direction - it's much faster than your boat. Could you please go check it out?\"\n",
    "\n",
    "You barely have time to agree to this request when he brings up another. \"While you wait for the ferry, maybe you can help us with our food production problem. The latest Island Island Almanac just arrived and we're having trouble making sense of it.\"\n",
    "\n",
    "The almanac (your puzzle input) lists all of the seeds that need to be planted. It also lists what type of soil to use with each kind of seed, what type of fertilizer to use with each kind of soil, what type of water to use with each kind of fertilizer, and so on. Every type of seed, soil, fertilizer and so on is identified with a number, but numbers are reused by each category - that is, soil 123 and fertilizer 123 aren't necessarily related to each other.\n",
    "\n",
    "For example:\n",
    "\n",
    "    seeds: 79 14 55 13\n",
    "\n",
    "    seed-to-soil map:\n",
    "    50 98 2\n",
    "    52 50 48\n",
    "\n",
    "    soil-to-fertilizer map:\n",
    "    0 15 37\n",
    "    37 52 2\n",
    "    39 0 15\n",
    "\n",
    "    fertilizer-to-water map:\n",
    "    49 53 8\n",
    "    0 11 42\n",
    "    42 0 7\n",
    "    57 7 4\n",
    "\n",
    "    water-to-light map:\n",
    "    88 18 7\n",
    "    18 25 70\n",
    "\n",
    "    light-to-temperature map:\n",
    "    45 77 23\n",
    "    81 45 19\n",
    "    68 64 13\n",
    "\n",
    "    temperature-to-humidity map:\n",
    "    0 69 1\n",
    "    1 0 69\n",
    "\n",
    "    humidity-to-location map:\n",
    "    60 56 37\n",
    "    56 93 4\n",
    "The almanac starts by listing which seeds need to be planted: seeds 79, 14, 55, and 13.\n",
    "\n",
    "The rest of the almanac contains a list of maps which describe how to convert numbers from a source category into numbers in a destination category. That is, the section that starts with seed-to-soil map: describes how to convert a seed number (the source) to a soil number (the destination). This lets the gardener and his team know which soil to use with which seeds, which water to use with which fertilizer, and so on.\n",
    "\n",
    "Rather than list every source number and its corresponding destination number one by one, the maps describe entire ranges of numbers that can be converted. Each line within a map contains three numbers: the destination range start, the source range start, and the range length.\n",
    "\n",
    "Consider again the example seed-to-soil map:\n",
    "\n",
    "    50 98 2\n",
    "    52 50 48\n",
    "The first line has a destination range start of 50, a source range start of 98, and a range length of 2. This line means that the source range starts at 98 and contains two values: 98 and 99. The destination range is the same length, but it starts at 50, so its two values are 50 and 51. With this information, you know that seed number 98 corresponds to soil number 50 and that seed number 99 corresponds to soil number 51.\n",
    "\n",
    "The second line means that the source range starts at 50 and contains 48 values: 50, 51, ..., 96, 97. This corresponds to a destination range starting at 52 and also containing 48 values: 52, 53, ..., 98, 99. So, seed number 53 corresponds to soil number 55.\n",
    "\n",
    "Any source numbers that aren't mapped correspond to the same destination number. So, seed number 10 corresponds to soil number 10.\n",
    "\n",
    "So, the entire list of seed numbers and their corresponding soil numbers looks like this:\n",
    "\n",
    "    seed  soil\n",
    "    0     0\n",
    "    1     1\n",
    "    ...   ...\n",
    "    48    48\n",
    "    49    49\n",
    "    50    52\n",
    "    51    53\n",
    "    ...   ...\n",
    "    96    98\n",
    "    97    99\n",
    "    98    50\n",
    "    99    51\n",
    "With this map, you can look up the soil number required for each initial seed number:\n",
    "\n",
    "    Seed number 79 corresponds to soil number 81.\n",
    "    Seed number 14 corresponds to soil number 14.\n",
    "    Seed number 55 corresponds to soil number 57.\n",
    "    Seed number 13 corresponds to soil number 13.\n",
    "The gardener and his team want to get started as soon as possible, so they'd like to know the closest location that needs a seed. Using these maps, find the lowest location number that corresponds to any of the initial seeds. To do this, you'll need to convert each seed number through other categories until you can find its corresponding location number. In this example, the corresponding types are:\n",
    "\n",
    "    Seed 79, soil 81, fertilizer 81, water 81, light 74, temperature 78, humidity 78, location 82.\n",
    "    Seed 14, soil 14, fertilizer 53, water 49, light 42, temperature 42, humidity 43, location 43.\n",
    "    Seed 55, soil 57, fertilizer 57, water 53, light 46, temperature 82, humidity 82, location 86.\n",
    "    Seed 13, soil 13, fertilizer 52, water 41, light 34, temperature 34, humidity 35, location 35.\n",
    "So, the lowest location number in this example is 35.\n",
    "\n",
    "What is the lowest location number that corresponds to any of the initial seed numbers?"
   ]
  },
  {
   "cell_type": "code",
   "execution_count": 93,
   "metadata": {},
   "outputs": [],
   "source": [
    "#imports\n",
    "import pandas as pd\n",
    "import numpy as np"
   ]
  },
  {
   "cell_type": "code",
   "execution_count": 94,
   "metadata": {},
   "outputs": [],
   "source": [
    "data_example = ['seeds: 79 14 55 13',\n",
    "'',\n",
    "'seed-to-soil map:',\n",
    "'50 98 2',\n",
    "'52 50 48',\n",
    "'',\n",
    "'soil-to-fertilizer map:',\n",
    "'0 15 37',\n",
    "'37 52 2',\n",
    "'39 0 15',\n",
    "'',\n",
    "'fertilizer-to-water map:',\n",
    "'49 53 8',\n",
    "'0 11 42',\n",
    "'42 0 7',\n",
    "'57 7 4',\n",
    "'',\n",
    "'water-to-light map:',\n",
    "'88 18 7',\n",
    "'18 25 70',\n",
    "'',\n",
    "'light-to-temperature map:',\n",
    "'45 77 23',\n",
    "'81 45 19',\n",
    "'68 64 13',\n",
    "'',\n",
    "'temperature-to-humidity map:',\n",
    "'0 69 1',\n",
    "'1 0 69',\n",
    "'',\n",
    "'humidity-to-location map:',\n",
    "'60 56 37',\n",
    "'56 93 4']"
   ]
  },
  {
   "cell_type": "code",
   "execution_count": 99,
   "metadata": {},
   "outputs": [
    {
     "data": {
      "text/plain": [
       "['seeds: 1482445116 339187393 3210489476 511905836 42566461 51849137 256584102 379575844 3040181568 139966026 4018529087 116808249 2887351536 89515778 669731009 806888490 2369242654 489923931 2086168596 82891253',\n",
       " '',\n",
       " 'seed-to-soil map:',\n",
       " '3356468240 2934525445 29117552',\n",
       " '4275689831 4042213712 19277465']"
      ]
     },
     "execution_count": 99,
     "metadata": {},
     "output_type": "execute_result"
    }
   ],
   "source": [
    "#get the dataaa\n",
    "with open('day_05_input.txt') as f:\n",
    "    data = f.readlines()\n",
    "data = [dat.strip('\\n') for dat in data]\n",
    "data[:5]"
   ]
  },
  {
   "cell_type": "code",
   "execution_count": 100,
   "metadata": {},
   "outputs": [
    {
     "data": {
      "text/plain": [
       "[1482445116,\n",
       " 339187393,\n",
       " 3210489476,\n",
       " 511905836,\n",
       " 42566461,\n",
       " 51849137,\n",
       " 256584102,\n",
       " 379575844,\n",
       " 3040181568,\n",
       " 139966026,\n",
       " 4018529087,\n",
       " 116808249,\n",
       " 2887351536,\n",
       " 89515778,\n",
       " 669731009,\n",
       " 806888490,\n",
       " 2369242654,\n",
       " 489923931,\n",
       " 2086168596,\n",
       " 82891253]"
      ]
     },
     "execution_count": 100,
     "metadata": {},
     "output_type": "execute_result"
    }
   ],
   "source": [
    "#get dem seeds\n",
    "seeds = data[0].split(': ')[1:]\n",
    "seeds = seeds[0].split(' ')\n",
    "seeds = [int(seed) for seed in seeds]\n",
    "seeds"
   ]
  },
  {
   "cell_type": "code",
   "execution_count": 101,
   "metadata": {},
   "outputs": [],
   "source": [
    "#didnt really need these very long key names \n",
    "map_names = ['seed-to-soil','soil-to-fertilizer','fertilizer-to-water','water-to-light',\n",
    "            'light-to-temperature','temperature-to-humidity','humidity-to-location']\n",
    "\n",
    "#init dictionary\n",
    "maps = {}\n",
    "\n",
    "#split all the numbers into their respective maps\n",
    "for name in map_names:\n",
    "    \n",
    "    save = False\n",
    "    for line in data:\n",
    "        \n",
    "        #if the line starts with a letter, skip but, but save the next lines\n",
    "        if line.startswith(name):\n",
    "            save = True\n",
    "            continue\n",
    "            \n",
    "        #once you hit a blank line, stop saving\n",
    "        if line == '':\n",
    "            save = False\n",
    "    \n",
    "        #start building a list or append if it already exists\n",
    "        if save:\n",
    "            if name not in maps:\n",
    "                maps[name] = []\n",
    "            maps[name].append(line)"
   ]
  },
  {
   "cell_type": "code",
   "execution_count": 107,
   "metadata": {},
   "outputs": [
    {
     "data": {
      "text/plain": [
       "[3134759866,\n",
       " 1933408330,\n",
       " 2756615368,\n",
       " 3198365321,\n",
       " 3720058318,\n",
       " 3729340994,\n",
       " 4145785066,\n",
       " 4233189200,\n",
       " 3294340837,\n",
       " 175622908,\n",
       " 931463584,\n",
       " 2364403068,\n",
       " 2738155057,\n",
       " 3780333983,\n",
       " 2012975958,\n",
       " 3966654292,\n",
       " 3934310271,\n",
       " 3567596031,\n",
       " 790567315,\n",
       " 3773709458]"
      ]
     },
     "execution_count": 107,
     "metadata": {},
     "output_type": "execute_result"
    }
   ],
   "source": [
    "#init all locations\n",
    "all_locations = []\n",
    "\n",
    "#iterate through all the seeds\n",
    "for seed in seeds:\n",
    "\n",
    "    #iterate through each map\n",
    "    for i, mapping in enumerate(maps):\n",
    "        one_map = maps[mapping]\n",
    "\n",
    "        #if its not the first iteration, save the find_location\n",
    "        if i >0:\n",
    "            seed = find_location\n",
    "\n",
    "        found = False\n",
    "        for one_line in one_map:\n",
    "            #pull out numbers\n",
    "            one_line = one_line.split()\n",
    "            one_line = [int(numb) for numb in one_line]\n",
    "            \n",
    "            #save necessary numbers\n",
    "            source = one_line[1]\n",
    "            destination = one_line[0]\n",
    "            ranged = one_line[2]\n",
    "            \n",
    "            #determine if the source is in this map\n",
    "            if source <= seed <= source+ranged-1:\n",
    "                difference = seed - source\n",
    "                #if so, save the destination location\n",
    "                find_location = destination + difference\n",
    "                found = True\n",
    "\n",
    "        #if not in map, the location is the same as the source\n",
    "        if found == False:\n",
    "            find_location = seed\n",
    "\n",
    "    all_locations.append(find_location)\n",
    "all_locations"
   ]
  },
  {
   "cell_type": "code",
   "execution_count": 108,
   "metadata": {},
   "outputs": [
    {
     "data": {
      "text/plain": [
       "175622908"
      ]
     },
     "execution_count": 108,
     "metadata": {},
     "output_type": "execute_result"
    }
   ],
   "source": [
    "np.array(all_locations).min()"
   ]
  },
  {
   "cell_type": "code",
   "execution_count": null,
   "metadata": {},
   "outputs": [],
   "source": []
  }
 ],
 "metadata": {
  "kernelspec": {
   "display_name": "Python 3",
   "language": "python",
   "name": "python3"
  },
  "language_info": {
   "codemirror_mode": {
    "name": "ipython",
    "version": 3
   },
   "file_extension": ".py",
   "mimetype": "text/x-python",
   "name": "python",
   "nbconvert_exporter": "python",
   "pygments_lexer": "ipython3",
   "version": "3.7.3"
  },
  "toc": {
   "base_numbering": 1,
   "nav_menu": {},
   "number_sections": false,
   "sideBar": true,
   "skip_h1_title": true,
   "title_cell": "Table of Contents",
   "title_sidebar": "Contents",
   "toc_cell": false,
   "toc_position": {},
   "toc_section_display": true,
   "toc_window_display": false
  }
 },
 "nbformat": 4,
 "nbformat_minor": 2
}
