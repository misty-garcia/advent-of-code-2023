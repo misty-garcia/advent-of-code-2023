{
 "cells": [
  {
   "cell_type": "markdown",
   "metadata": {},
   "source": [
    "## --- Day 5: If You Give A Seed A Fertilizer ---\n",
    "You take the boat and find the gardener right where you were told he would be: managing a giant \"garden\" that looks more to you like a farm.\n",
    "\n",
    "\"A water source? Island Island is the water source!\" You point out that Snow Island isn't receiving any water.\n",
    "\n",
    "\"Oh, we had to stop the water because we ran out of sand to filter it with! Can't make snow with dirty water. Don't worry, I'm sure we'll get more sand soon; we only turned off the water a few days... weeks... oh no.\" His face sinks into a look of horrified realization.\n",
    "\n",
    "\"I've been so busy making sure everyone here has food that I completely forgot to check why we stopped getting more sand! There's a ferry leaving soon that is headed over in that direction - it's much faster than your boat. Could you please go check it out?\"\n",
    "\n",
    "You barely have time to agree to this request when he brings up another. \"While you wait for the ferry, maybe you can help us with our food production problem. The latest Island Island Almanac just arrived and we're having trouble making sense of it.\"\n",
    "\n",
    "The almanac (your puzzle input) lists all of the seeds that need to be planted. It also lists what type of soil to use with each kind of seed, what type of fertilizer to use with each kind of soil, what type of water to use with each kind of fertilizer, and so on. Every type of seed, soil, fertilizer and so on is identified with a number, but numbers are reused by each category - that is, soil 123 and fertilizer 123 aren't necessarily related to each other.\n",
    "\n",
    "For example:\n",
    "\n",
    "    seeds: 79 14 55 13\n",
    "\n",
    "    seed-to-soil map:\n",
    "    50 98 2\n",
    "    52 50 48\n",
    "\n",
    "    soil-to-fertilizer map:\n",
    "    0 15 37\n",
    "    37 52 2\n",
    "    39 0 15\n",
    "\n",
    "    fertilizer-to-water map:\n",
    "    49 53 8\n",
    "    0 11 42\n",
    "    42 0 7\n",
    "    57 7 4\n",
    "\n",
    "    water-to-light map:\n",
    "    88 18 7\n",
    "    18 25 70\n",
    "\n",
    "    light-to-temperature map:\n",
    "    45 77 23\n",
    "    81 45 19\n",
    "    68 64 13\n",
    "\n",
    "    temperature-to-humidity map:\n",
    "    0 69 1\n",
    "    1 0 69\n",
    "\n",
    "    humidity-to-location map:\n",
    "    60 56 37\n",
    "    56 93 4\n",
    "The almanac starts by listing which seeds need to be planted: seeds 79, 14, 55, and 13.\n",
    "\n",
    "The rest of the almanac contains a list of maps which describe how to convert numbers from a source category into numbers in a destination category. That is, the section that starts with seed-to-soil map: describes how to convert a seed number (the source) to a soil number (the destination). This lets the gardener and his team know which soil to use with which seeds, which water to use with which fertilizer, and so on.\n",
    "\n",
    "Rather than list every source number and its corresponding destination number one by one, the maps describe entire ranges of numbers that can be converted. Each line within a map contains three numbers: the destination range start, the source range start, and the range length.\n",
    "\n",
    "Consider again the example seed-to-soil map:\n",
    "\n",
    "    50 98 2\n",
    "    52 50 48\n",
    "The first line has a destination range start of 50, a source range start of 98, and a range length of 2. This line means that the source range starts at 98 and contains two values: 98 and 99. The destination range is the same length, but it starts at 50, so its two values are 50 and 51. With this information, you know that seed number 98 corresponds to soil number 50 and that seed number 99 corresponds to soil number 51.\n",
    "\n",
    "The second line means that the source range starts at 50 and contains 48 values: 50, 51, ..., 96, 97. This corresponds to a destination range starting at 52 and also containing 48 values: 52, 53, ..., 98, 99. So, seed number 53 corresponds to soil number 55.\n",
    "\n",
    "Any source numbers that aren't mapped correspond to the same destination number. So, seed number 10 corresponds to soil number 10.\n",
    "\n",
    "So, the entire list of seed numbers and their corresponding soil numbers looks like this:\n",
    "\n",
    "    seed  soil\n",
    "    0     0\n",
    "    1     1\n",
    "    ...   ...\n",
    "    48    48\n",
    "    49    49\n",
    "    50    52\n",
    "    51    53\n",
    "    ...   ...\n",
    "    96    98\n",
    "    97    99\n",
    "    98    50\n",
    "    99    51\n",
    "With this map, you can look up the soil number required for each initial seed number:\n",
    "\n",
    "    Seed number 79 corresponds to soil number 81.\n",
    "    Seed number 14 corresponds to soil number 14.\n",
    "    Seed number 55 corresponds to soil number 57.\n",
    "    Seed number 13 corresponds to soil number 13.\n",
    "The gardener and his team want to get started as soon as possible, so they'd like to know the closest location that needs a seed. Using these maps, find the lowest location number that corresponds to any of the initial seeds. To do this, you'll need to convert each seed number through other categories until you can find its corresponding location number. In this example, the corresponding types are:\n",
    "\n",
    "    Seed 79, soil 81, fertilizer 81, water 81, light 74, temperature 78, humidity 78, location 82.\n",
    "    Seed 14, soil 14, fertilizer 53, water 49, light 42, temperature 42, humidity 43, location 43.\n",
    "    Seed 55, soil 57, fertilizer 57, water 53, light 46, temperature 82, humidity 82, location 86.\n",
    "    Seed 13, soil 13, fertilizer 52, water 41, light 34, temperature 34, humidity 35, location 35.\n",
    "So, the lowest location number in this example is 35.\n",
    "\n",
    "What is the lowest location number that corresponds to any of the initial seed numbers?"
   ]
  },
  {
   "cell_type": "code",
   "execution_count": 1,
   "metadata": {},
   "outputs": [],
   "source": [
    "data = ['seeds: 79 14 55 13',\n",
    "'',\n",
    "'seed-to-soil map:',\n",
    "'50 98 2',\n",
    "'52 50 48',\n",
    "'',\n",
    "'soil-to-fertilizer map:',\n",
    "'0 15 37',\n",
    "'37 52 2',\n",
    "'39 0 15',\n",
    "'',\n",
    "'fertilizer-to-water map:',\n",
    "'49 53 8',\n",
    "'0 11 42',\n",
    "'42 0 7',\n",
    "'57 7 4',\n",
    "'',\n",
    "'water-to-light map:',\n",
    "'88 18 7',\n",
    "'18 25 70',\n",
    "'',\n",
    "'light-to-temperature map:',\n",
    "'45 77 23',\n",
    "'81 45 19',\n",
    "'68 64 13',\n",
    "'',\n",
    "'temperature-to-humidity map:',\n",
    "'0 69 1',\n",
    "'1 0 69',\n",
    "'',\n",
    "'humidity-to-location map:',\n",
    "'60 56 37',\n",
    "'56 93 4']"
   ]
  },
  {
   "cell_type": "code",
   "execution_count": 111,
   "metadata": {},
   "outputs": [],
   "source": [
    "map_names = ['seed-to-soil','soil-to-fertilizer','fertilizer-to-water','water-to-light'\n",
    "            'light-to-temperature','temperature-to-humidity','humidity-to-location']"
   ]
  },
  {
   "cell_type": "code",
   "execution_count": 123,
   "metadata": {},
   "outputs": [],
   "source": [
    "maps = {}\n",
    "seeds = data[0].split(': ')[1:]\n",
    "\n",
    "for name in map_names:\n",
    "    \n",
    "    save = False\n",
    "    for line in data:\n",
    "        if line.startswith(name):\n",
    "            save = True\n",
    "            continue\n",
    "        if line == '':\n",
    "            save = False\n",
    "        if save:\n",
    "            if name not in maps:\n",
    "                maps[name] = []\n",
    "            maps[name].append(line)"
   ]
  },
  {
   "cell_type": "code",
   "execution_count": 124,
   "metadata": {},
   "outputs": [
    {
     "data": {
      "text/plain": [
       "{'seed-to-soil': ['50 98 2', '52 50 48'],\n",
       " 'soil-to-fertilizer': ['0 15 37', '37 52 2', '39 0 15'],\n",
       " 'fertilizer-to-water': ['49 53 8', '0 11 42', '42 0 7', '57 7 4'],\n",
       " 'temperature-to-humidity': ['0 69 1', '1 0 69'],\n",
       " 'humidity-to-location': ['60 56 37', '56 93 4']}"
      ]
     },
     "execution_count": 124,
     "metadata": {},
     "output_type": "execute_result"
    }
   ],
   "source": [
    "maps"
   ]
  },
  {
   "cell_type": "code",
   "execution_count": 126,
   "metadata": {},
   "outputs": [
    {
     "name": "stdout",
     "output_type": "stream",
     "text": [
      "['50 98 2', '52 50 48']\n",
      "['0 15 37', '37 52 2', '39 0 15']\n",
      "['49 53 8', '0 11 42', '42 0 7', '57 7 4']\n",
      "['0 69 1', '1 0 69']\n",
      "['60 56 37', '56 93 4']\n"
     ]
    }
   ],
   "source": [
    "for mapping in maps:\n",
    "    print(maps[mapping])"
   ]
  },
  {
   "cell_type": "code",
   "execution_count": null,
   "metadata": {},
   "outputs": [],
   "source": []
  }
 ],
 "metadata": {
  "kernelspec": {
   "display_name": "Python 3",
   "language": "python",
   "name": "python3"
  },
  "language_info": {
   "codemirror_mode": {
    "name": "ipython",
    "version": 3
   },
   "file_extension": ".py",
   "mimetype": "text/x-python",
   "name": "python",
   "nbconvert_exporter": "python",
   "pygments_lexer": "ipython3",
   "version": "3.7.3"
  },
  "toc": {
   "base_numbering": 1,
   "nav_menu": {},
   "number_sections": false,
   "sideBar": true,
   "skip_h1_title": true,
   "title_cell": "Table of Contents",
   "title_sidebar": "Contents",
   "toc_cell": false,
   "toc_position": {},
   "toc_section_display": true,
   "toc_window_display": false
  }
 },
 "nbformat": 4,
 "nbformat_minor": 2
}
